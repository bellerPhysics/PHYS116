{
 "cells": [
  {
   "cell_type": "markdown",
   "id": "5d9ffc57-4150-4793-85dd-0de94161c9bc",
   "metadata": {},
   "source": [
    "# LN7: Fourier transforms\n",
    "\n",
    "## From Fourier series to transforms"
   ]
  },
  {
   "cell_type": "raw",
   "id": "68bb3e9b-8621-4074-b142-cf9426d2c415",
   "metadata": {
    "slideshow": {
     "slide_type": "slide"
    },
    "tags": []
   },
   "source": [
    "Suppose we have a function that is *not* periodic, and the domain of interest \n",
    "is all real numbers $ (-\\infty,\\infty) $\n",
    "Recall that on any *finite* interval of length $L$, we could represent any function by its Fourier series, and the series converges to the original function everywhere except the endpoints of the interval. \n",
    "\n",
    "So by taking $L \\rightarrow \\infty$, we can accurately represent our arbitrary function at all finite $x$.\n",
    "\n",
    "Let's use the complex Fourier series:"
   ]
  },
  {
   "cell_type": "markdown",
   "id": "4fe30295-5889-450b-9a1e-63a8bb436631",
   "metadata": {
    "slideshow": {
     "slide_type": "slide"
    },
    "tags": [
     "hide-input"
    ]
   },
   "source": [
    "\\begin{align*}\n",
    "    f(x) &= \\sum_{n=-\\infty}^\\infty c_n e^{2n\\pi i x /L} \\\\\n",
    "    c_n &= \\frac{1}{L} \\int_{-L/2}^{L/2} du f(u) e^{-2n\\pi i u/L} \\\\\n",
    "    \\Rightarrow f(x) &= \\frac{1}{L} \\sum_{n=-\\infty}^\\infty \\int_{-L/2}^{L/2}  du (f(u))^* e^{2n\\pi i (x-u)/L}\n",
    "\\end{align*}"
   ]
  },
  {
   "cell_type": "markdown",
   "id": "47744e3b-606d-4c5b-bbe7-58d6d7f82094",
   "metadata": {
    "tags": [
     "hide-input"
    ]
   },
   "source": [
    "Let $\\Delta q = 2\\pi /L$. Then"
   ]
  },
  {
   "cell_type": "markdown",
   "id": "2d748bc8-a84a-43ed-8ba7-3714d0012e6a",
   "metadata": {
    "tags": [
     "hide-input"
    ]
   },
   "source": [
    "$$   \n",
    "f(x) = \\frac{\\Delta q}{2\\pi} \\sum_{n=-\\infty}^\\infty \n",
    "        \\int_{-L/2}^{L/2} du f(u) e^{n \\Delta q i(x-u)}         \n",
    "$$"
   ]
  },
  {
   "cell_type": "markdown",
   "id": "8528cbcb-d9d0-45b8-898f-004a0bbc166c",
   "metadata": {},
   "source": [
    "Now, instead of summing over all integers $n$, we are going to divide the *real* number line into intervals of length $\\Delta q$. The $n$th interval is centered at\n",
    "$ q_n \\equiv n \\Delta q$:"
   ]
  },
  {
   "cell_type": "markdown",
   "id": "5141e499-b7db-4fcd-b666-f3492a60b794",
   "metadata": {},
   "source": [
    "$$   \n",
    "f(x) = \\frac{1}{2\\pi}  \\sum_{n=-\\infty}^\\infty \\Delta q \n",
    "        \\int_{-L/2}^{L/2} du f(u) e^{q_n i (x-u)}\n",
    "$$"
   ]
  },
  {
   "cell_type": "markdown",
   "id": "ccfe0b69-dfae-44cf-bd61-127ad4a38d4b",
   "metadata": {},
   "source": [
    "As $L\\rightarrow \\infty$, $\\Delta q = 2\\pi /L \\rightarrow 0$ and so the sum \n",
    "\\begin{equation*} \\sum_{n=-\\infty}^\\infty \\Delta q (\\dots\\text{function of $q_n$}\\dots) \\end{equation*}\n",
    "becomes "
   ]
  },
  {
   "cell_type": "markdown",
   "id": "cf40af4f-fa48-444c-9114-4c41106900fe",
   "metadata": {},
   "source": [
    "$$\n",
    "\\int_{-\\infty}^\\infty dq_n (\\dots \\text{function of $q_n$}\\dots ) \n",
    "$$"
   ]
  },
  {
   "cell_type": "markdown",
   "id": "5ccfad79-a048-4326-9b46-4c341199b631",
   "metadata": {},
   "source": [
    "We have no more need for $n$, so let's use $q$ in place of $q_n$. We'll also replace $+\\pm L/2$ with $\\pm \\infty$."
   ]
  },
  {
   "cell_type": "markdown",
   "id": "dd4a726f-92ec-485f-8c95-9b6b58b1725c",
   "metadata": {},
   "source": [
    "\n",
    "\n",
    "\\begin{align*}\n",
    "    f(x) &= \\frac{1}{2\\pi} \\int_{-\\infty}^\\infty dq \\int_{-\\infty}^\\infty du f(u) e^{iq(x-u)} \\\\\n",
    "    &= \\frac{1}{2\\pi} \\int_{-\\infty}^\\infty dq e^{iqx} \\int_{-\\infty}^\\infty du e^{-iqu}\n",
    "\\end{align*}"
   ]
  },
  {
   "cell_type": "markdown",
   "id": "ca32ec24-d456-4a3a-b915-ca4bce26b026",
   "metadata": {},
   "source": [
    "Define\n",
    "\n",
    "$$ \n",
    "\\tilde f(q) \\equiv \\frac{1}{2\\pi} \\int_{-\\infty}^\\infty du f(u) e^{-iqu}. \n",
    "$$ \n",
    "\n",
    "(We could use $u$ instead of $x$ here, since the variable being integrated over can have whatever name we like.)\n",
    "\n",
    "Then,\n",
    "\n",
    "$$\n",
    "f(x) = \\int_{-\\infty}^\\infty dq \\tilde f(q) e^{iqx} \n",
    "$$"
   ]
  },
  {
   "cell_type": "markdown",
   "id": "facfa21c-aa5a-460e-948e-06501cb2048c",
   "metadata": {},
   "source": [
    "We have found"
   ]
  },
  {
   "cell_type": "markdown",
   "id": "8a373f13-e4d6-48d9-835e-391aa2d29931",
   "metadata": {},
   "source": [
    "\n",
    "```{important}\n",
    "\n",
    "\\begin{align*}\n",
    "        f(x) &= \\int_{-\\infty}^\\infty dq \\tilde f(q) e^{iqx} \\\\\n",
    "        \\tilde f(q) &\\equiv \\frac{1}{2\\pi} \\int_{-\\infty}^\\infty dx f(x) e^{-iqx} \n",
    "    \\end{align*}\n",
    "\n",
    "For any function $f$, $\\tilde f$ is its ***Fourier transform***.\n",
    "\n",
    "```\n"
   ]
  },
  {
   "cell_type": "markdown",
   "id": "33c72f53-7bf5-4122-a094-f0a07b5fabda",
   "metadata": {},
   "source": [
    "```{note}\n",
    "$f$ and $\\tilde f$ are functions of different variables, $x$ and $q$ respectively. Since $iqx$ must be dimensionless, the units of $q$ must be the reciprocal of the units of $x$. For example,\n",
    "\n",
    "* For a function of time $f(t)$, the Fourier transform is a function of frequency $\\tilde f(\\omega)$, where $\\omega$ has units of (e.g.) $\\mathrm{s}^{-1}=\\mathrm{Hz}$.\n",
    "\n",
    "* For a function of position $f(x)$, the Fourier transform is a function of ***wavenumber*** $q$, which has units of $1/\\mathrm{length}$.\n",
    "```"
   ]
  },
  {
   "cell_type": "markdown",
   "id": "c306b9fe-e69d-45cc-aa44-f9724bfdc039",
   "metadata": {},
   "source": [
    "```{note}\n",
    "        \n",
    "\"Fourier transform\" can refer to the function $\\tilde f(q)$ or to the act of taking $\\frac{1}{2\\pi}\\int_{-\\infty}^\\infty dx f(x) e^{-iqx}$. Thus we might also \"***take the inverse Fourier transform***\" of any function:\n",
    "\n",
    "$$ \n",
    "\\int_{-\\infty}^\\infty dq \\tilde g(q) e^{-iqx}. \n",
    "$$    \n",
    "```"
   ]
  },
  {
   "cell_type": "markdown",
   "id": "223ba21d-4f47-48e9-b475-7cea2d260b27",
   "metadata": {},
   "source": [
    "### Example 1"
   ]
  },
  {
   "cell_type": "markdown",
   "id": "a1c6c20d-edad-40e5-b466-71cfa2464e04",
   "metadata": {},
   "source": [
    "\n",
    "*Suppose our step function example from the Fourier Series section were not periodic, but instead*\n",
    "\n",
    "$$ \n",
    "f(x) = \\begin{cases} 1 & -2 \\leq x < 2 \\\\\n",
    "                        0 & \\text{otherwise} \n",
    "          \\end{cases}\n",
    "$$\n",
    "\n",
    "*Find its Fourier transform.*\n",
    "\n",
    "\n",
    "\n",
    "\n",
    "\\begin{align*}\n",
    "    \\tilde f(q) &= \\frac{1}{2\\pi} \\int_{-\\infty}^\\infty dx f(x) e^{-iqx} \n",
    "        = \\frac{1}{2\\pi} \\int_{-2}^{2} dx (1) e^{-iqx} \\\\\n",
    "        &= \\frac{1}{2\\pi} \n",
    "            \\left[ \\frac{e^{-iqx}}{-iq}\\right]^2_{-2}\n",
    "        = -\\frac{1}{q \\pi}\\frac{e^{-2qi}-e^{2qi}}{2i} = \\frac{\\sin(2q)}{q\\pi}\n",
    "\\end{align*}\n",
    "\n",
    "\n",
    "\\begin{align*}\n",
    "    f(x) &= \\int_{-\\infty}^\\infty dq \\tilde f(q) e^{iqx}  \\\\\n",
    "    &= \\int_{-\\infty}^\\infty dq \\frac{\\sin(2q)}{\\pi q} (\\cos (qx) + i \\sin(qx))\n",
    "\\end{align*}\n",
    "\n",
    "\n",
    "Now note that \n",
    "\n",
    "* $\\sin(2q)$ is an odd function of $q$.\n",
    "\n",
    "* $(1/(\\pi q)) = (1/\\pi) q^{-1}$ is also an odd function of $q$.\n",
    "\n",
    "* the interval of integration is symmetric about $0$. \n",
    "\n",
    "Therefore, $\\sin(2q)/(\\pi q)$ is an even function, and its product with an odd function (such as $\\sin(qx))$ will integrate to $0$, leaving:\n",
    "\n",
    "$$\n",
    "f(x) = \\int_{-\\infty}^\\infty dq \\frac{\\sin(2q)}{\\pi q} \\cos(qx) \n",
    "$$\n",
    "\n"
   ]
  },
  {
   "cell_type": "markdown",
   "id": "a0be0226-b922-4e73-82e5-56b68e43cc79",
   "metadata": {},
   "source": [
    "### Example 2"
   ]
  },
  {
   "cell_type": "markdown",
   "id": "eb3a7831-f7f7-4c8a-b186-d5388879aafd",
   "metadata": {},
   "source": [
    "\\begin{align*}\n",
    "f(x) &= \\cos(3x) \\\\\n",
    "\\tilde f(q) &= \\frac{1}{2\\pi}\\int_{-\\infty}^\\infty dq \\cos(3x) e^{-iqx} \\\\\n",
    "&= \\frac{1}{2\\pi} \\int_{-\\infty}^\\infty dq \\cos(3x) (\\cos(qx) - i \\sin(qx)) \n",
    "\\end{align*}\n",
    "\n",
    "\n",
    "The $i \\sin(qx)$ term is odd and so contributes $0$ to the integral (since $\\cos(3x)$ is even. That leaves    \n",
    "\n",
    "\n",
    "\n",
    "\\begin{align*}\n",
    "\\tilde f(q)    &= \\frac{1}{2\\pi} \\int_{-\\infty}^\\infty dq \\frac{e^{3x}+e^{-3x}}{2} \n",
    "        \\frac{e^{qx} + e^{-qx}}{2} \\\\\n",
    "        &= \\frac{1}{8\\pi} \\int_{-\\infty}^\\infty dq\n",
    "            \\left[ e^{(3+q)x}+ e^{-(3+q)x} + e^{(3-q)x} + e^{-(3-q)x} \\right]\\\\\n",
    "        &= \\frac{1}{4\\pi} \\int_{-\\infty}^\\infty dq \\left[ \\cos(3+q) + \\cos(3-q) \\right] \n",
    "\\end{align*}\n",
    "Let's be careful to not divide by zero. For $q \\neq \\pm 3$:\n",
    "\\begin{align*}\n",
    "    \\tilde f(q) &= \\frac{1}{4\\pi} \\left[\\frac{\\sin(3+q)}{3+q} + \\frac{\\sin(3-q)}{3-q} \\right]^\\infty_{-\\infty} \\\\\n",
    "        &= 0 \n",
    "\\end{align*}\n",
    "while for $q= \\pm  3$:\n",
    "\\begin{align*}\n",
    "    \\tilde f(\\pm 3) &= \\frac{1}{2\\pi} \\int_{-\\infty}^\\infty \\cos(3x) \\cos(\\pm 3x) \\\\\n",
    "    &= \\frac{1}{2\\pi} \\int_{-\\infty}^\\infty dx \\cos^2 (3x) = \\infty\n",
    "\\end{align*}\n",
    "\n",
    "\n",
    "\n",
    "So $\\tilde f(q)$ is zero for all $q$ except $q = \\pm 3$, where $\\tilde f(q)$ is infinite! We can write our answer as\n",
    "\n",
    "$$ \n",
    "\\tilde f(q) = \\frac{1}{2} \\left(\\delta(q+3) + \\delta (q-3)\\right) \n",
    "$$\n"
   ]
  },
  {
   "cell_type": "markdown",
   "id": "a45c983d-b7ea-4cfb-84b1-b634d7142381",
   "metadata": {},
   "source": [
    "\n",
    "Here we have defined the ***Dirac delta function*** by\n",
    "\n",
    "\\begin{align*} \n",
    "\\delta(u)& \\equiv \\begin{cases} 1 & u=0 \\\\ 0 & u\\neq 0 \\end{cases} \\\\\n",
    "\\int_a^b du \\delta(u)& = \\begin{cases} 1 & a < 0 < b \\\\ 0 & \\text{otherwise} \\end{cases} \n",
    "\\end{align*}\n",
    "\n",
    "\n",
    "It can be shown that a $\\delta$ function in an integral \"picks out\" the integrand's value at the point where $\\delta$'s argument is zero:\n",
    "\n",
    "$$\n",
    "\\int_a^c du \\delta(u-b) g(u) = \\begin{cases} g(b) & a < b < c \\\\ 0 & \\text{otherwise} \\end{cases}\n",
    "$$"
   ]
  },
  {
   "cell_type": "markdown",
   "id": "00645421-7d90-473c-b7ce-a25a3cb56037",
   "metadata": {
    "tags": []
   },
   "source": [
    "We can recover the original function as\n",
    "\\begin{align*}\n",
    "    f(x) &= \\int_{-\\infty}^\\infty dq \\tilde f(q) e^{-iqx} \n",
    "    = \\frac{1}{2} \\left[ \\int_{-\\infty}^\\infty dq \\delta(q+3) e^{-iqx} + \\int_{-\\infty}^\\infty dq \\delta(q-3)e^{-iqx}\\right] \\\\\n",
    "    &= \\frac{1}{2} \\left[ e^{-3ix} + e^{3ix} \\right] = \\cos(3x) \\quad \\checkmark\n",
    "\\end{align*}\n",
    "Now you see why we needed the factor of $1/2$.\n",
    "    \n"
   ]
  },
  {
   "cell_type": "markdown",
   "id": "290b694c-7840-4805-b80a-f339a241bbe4",
   "metadata": {},
   "source": [
    "What does this example show us? The Fourier transform of a simple harmonic oscillation, with periodicity $L=2\\pi/3$, is an infinite spike at $q=3=2\\pi/L$, and zero everywhere else. \n",
    "\n",
    "What about for more general $f(x)$? Note that the Fourier transform is *linear*:"
   ]
  },
  {
   "cell_type": "markdown",
   "id": "282f8f78-a017-479d-8b23-31feb714f537",
   "metadata": {
    "tags": []
   },
   "source": [
    "\n",
    "\\begin{align*}\n",
    "    f(x) &= g(x) + c h(x) \\\\\n",
    "    \\tilde f(q) &= \\frac{1}{2\\pi} \n",
    "        \\int_{-\\infty}^\\infty dq f(x) e^{iqx} \n",
    "    = \\frac{1}{2\\pi} \\int_{-\\infty}^\\infty dq g(x) e^{iqx} \n",
    "        + c \\int_{-\\infty}^\\infty dq h(x) e^{iqx}   \\\\\n",
    "    &= \\tilde g(q) + c \\tilde h(q) \\quad \\checkmark\n",
    "\\end{align*}"
   ]
  },
  {
   "cell_type": "markdown",
   "id": "c98356be-99ed-4c9f-801d-cf34fc3cab2f",
   "metadata": {},
   "source": [
    "For example, if $f(x) = \\cos(3x) + 2 \\cos(4 x)$ then\n",
    "\n",
    "$$ \n",
    "\\tilde f(q) = \\frac{1}{2} \\left[ \\cos(q+3) + \\cos(q-3) + 2 \\cos(q+5) + 2\\cos(q-5) \\right]\n",
    "$$"
   ]
  },
  {
   "cell_type": "markdown",
   "id": "9e082b9a-4dd1-4a96-a7c6-1efbea790c94",
   "metadata": {},
   "source": [
    "So, we can think of any function $\\tilde f(x)$ as a linear combination of SHO functions $\\cos(qx)$ and $\\sin(qx)$—or equivalently, $e^{iqx}$ and $e^{-iqx}$. \n",
    "\n",
    "Now $q$ takes on the value of all real numbers, not just integers, so the linear combination *sum* becomes a linear combination *integral*: the inverse Fourier transform!\n",
    "\n",
    "Meanwhile, the Fourier transform itself just takes the inner product of $f(x)$ with basis element $e^{iqx}$, that is, assigns to $\\tilde f(q)$ the coefficient of $e^{iqx}$ when $f(x)$ is expanded in the $\\{ e^{iqx} \\}$ basis. "
   ]
  },
  {
   "cell_type": "markdown",
   "id": "6e8ac680-6a29-4f57-b619-2b25962ea848",
   "metadata": {},
   "source": [
    "We therefore speak of the space of $q$-values as \"frequency-space\" (for functions of time) or \"wavenumber space\" (for functions of position). More generally, we can refer to $q$-space as ***reciprocal space*** or ***Fourier space***.\n"
   ]
  },
  {
   "cell_type": "markdown",
   "id": "0e0935d2-d62b-4e0f-b8f6-0ee6b0c6e8b0",
   "metadata": {},
   "source": [
    "## Parseval's Theorem for the Fourier transform"
   ]
  },
  {
   "cell_type": "markdown",
   "id": "9f606dab-2c2b-417e-9e39-29ffd86cbe62",
   "metadata": {},
   "source": [
    "\n",
    "Let's find an analog of Parseval's Theorem,\n",
    "\n",
    "$$ \n",
    "\\frac{1}{2\\pi} \\int_{-\\pi}^\\pi |f(x)|^2 = \\sum_{n=-\\infty}^\\infty |c_n|^2\n",
    "$$\n",
    "\n",
    "for Fourier transforms. "
   ]
  },
  {
   "cell_type": "markdown",
   "id": "836ebce5-c118-434a-8f07-0dbe9e3da026",
   "metadata": {
    "tags": []
   },
   "source": [
    "\n",
    "First note that $|f(x)|^2 = f(x) (f(x))^*$. \n",
    "We can take the complex conjugate of\n",
    "\\begin{align*}\n",
    "    f(x) &= \\int_{-\\infty}^\\infty dq \\tilde f(q) e^{-iqx} \n",
    "\\end{align*}\n",
    "to obtain \n",
    "\\begin{align*}\n",
    "    (f(x))^* &= \\int_{-\\infty}^\\infty dq (\\tilde f(q))^* e^{+iqx} \n",
    "\\end{align*}\n",
    "So,\n",
    "\\begin{align*}\n",
    "    \\frac{1}{2\\pi} \\int_{-\\infty}^\\infty dx |f(x)|^2 &= \n",
    "        \\frac{1}{2\\pi}  \\int_{-\\infty}^\\infty dx  \\int_{-\\infty}^\\infty dq \\tilde f(q) e^{-iqx} \n",
    "        \\int_{-\\infty}^\\infty dq' (\\tilde f(q'))^* e^{+iq'x} \\\\\n",
    "        &= \\frac{1}{2\\pi}  \\int_{-\\infty}^\\infty dq \\tilde f(q)\n",
    "                \\int_{-\\infty}^\\infty dq' (\\tilde f(q'))^* \n",
    "                \\int_{-\\infty}^\\infty dx e^{i(q'-q) x}\n",
    "\\end{align*}                                            "
   ]
  },
  {
   "cell_type": "markdown",
   "id": "ab38b9ee-1af0-4e43-b14f-780910de75bd",
   "metadata": {
    "tags": []
   },
   "source": [
    "\n",
    "\n",
    "Now, $ \\dfrac{1}{2\\pi}   \\int_{-\\infty}^\\infty dx e^{i(q'-q)x} $ is the Fourier transform of $g(x) = 1$, \n",
    "evaluated as $\\tilde g(q'-q)$.\n",
    "                       \n",
    "\\begin{align*}\n",
    "    \\tilde g(q) &= \\frac{1}{2\\pi} \\int_{-\\infty}^\\infty dx e^{iqx} \n",
    "                       = \\begin{cases}\n",
    "                           \\left.  \\frac{1}{2\\pi} \\frac{e^{iqx}}{iq} \\right|^\\infty_{-\\infty} = 0 &  q \\neq 0 \\\\\n",
    "                           \\infty & q=0\n",
    "                           \\end{cases}\n",
    "\\end{align*}\n",
    "\n",
    "Hey, it's another Dirac delta function! \n",
    "                      \n",
    "$$\n",
    "\\tilde g(q) = \\delta(q-0)=\\delta(q)\n",
    "$$ \n",
    "\n",
    "\n",
    "To check that we got the coefficient right:\n",
    "\\begin{align*}\n",
    "    g(x) = \\int_{-\\infty}^\\infty dq \\tilde g(q) e^{-iqx} \n",
    "                       = \\int_{-\\infty}^\\infty dq \\delta(q-0) e^{-iqx}\n",
    "                        = e^{-iq(0)} = 1 \\quad \\checkmark\n",
    "\\end{align*}\n",
    "                       \n",
    "                       \n",
    "Therefore,\n",
    "\\begin{align*}\n",
    "    \\frac{1}{2\\pi} \\int_{-\\infty}^\\infty dx e^{i(q'-q)x} &= \\tilde g(q'-q) = \\delta(q'-q)\n",
    "\\end{align*}"
   ]
  },
  {
   "cell_type": "markdown",
   "id": "61d80e02-b6d3-48f9-a698-0a17a69ee770",
   "metadata": {
    "tags": []
   },
   "source": [
    "\n",
    "Thus,\n",
    "\\begin{align*}\n",
    "    \\frac{1}{2\\pi} \\int_{-\\infty}^\\infty dx |f(x)|^2 &= \n",
    "        \\int_{-\\infty}^\\infty dq \\tilde f(q) \\int_{-\\infty}^\\infty dq' (\\tilde f(q'))^* \\delta(q'-q)\\\\      \n",
    "\\end{align*}\n"
   ]
  },
  {
   "cell_type": "markdown",
   "id": "c8cc4a8e-3759-43fa-ae2f-d6df320e8d7e",
   "metadata": {},
   "source": [
    "Now integrating over $q'$, the $\\delta$ function \"picks out\" the value of $(\\tilde f(q'))^*$ where $q'-q=0$, that is, $q'=q$:                                                                                                     "
   ]
  },
  {
   "cell_type": "markdown",
   "id": "45a53fc2-6568-422c-8dda-73ebe6d84b83",
   "metadata": {},
   "source": [
    "\n",
    "\n",
    "\\begin{align*}\n",
    "    \\frac{1}{2\\pi} \\int_{-\\infty}^\\infty dx |f(x)|^2\n",
    "        &= \\int_{-\\infty}^\\infty dq \\tilde f(q) (\\tilde f(q))^* = \\int_{-\\infty}^\\infty dq |\\tilde f(q)|^2\n",
    "\\end{align*}\n",
    "This is Parseval's Theorem for Fourier transforms. "
   ]
  },
  {
   "cell_type": "markdown",
   "id": "5bd59635-197c-4c61-81e4-9ca745c51e3b",
   "metadata": {},
   "source": [
    "## Fourier transform of a derivative"
   ]
  },
  {
   "cell_type": "markdown",
   "id": "b5a8d3d3-1c2c-4d06-8dcf-295835d4868e",
   "metadata": {},
   "source": [
    "\n",
    "Suppose we know the Fourier transform $\\tilde f(q)$ of $f(x)$. What is the Fourier transform of $h(x) = \\dfrac{df}{dx}$?\n"
   ]
  },
  {
   "cell_type": "markdown",
   "id": "fc591b06-96fe-4b95-bdd9-93626e316a18",
   "metadata": {},
   "source": [
    "\\begin{align*}\n",
    "    \\tilde h(q) = \\frac{1}{2\\pi} \\int_{-\\infty}^\\infty dx \\dfrac{df}{dx} e^{iqx} = \\frac{1}{2\\pi} \\left[ \\int_{-\\infty}^\\infty dx \\frac{d}{dx} \\left(f(x) e^{iqx}\\right) - \\int_{-\\infty}^\\infty dx f(x) \\frac{d}{dx} e^{iqx} \\right]  \\\\\n",
    "\\end{align*}\n",
    "Let's assume $f(x) \\rightarrow 0$ as $x\\rightarrow \\pm \\infty$:\n",
    "\\begin{align*}\n",
    "       \\tilde h(q) &= \\frac{1}{2\\pi} \\left[ {\\left. f(x) e^{iqx} \\right|^\\infty_{-\\infty}}  - iq \\int_{-\\infty}^\\infty dx f(x) e^{iqx} \\right] \\\\\n",
    "       &= \\frac{1}{2\\pi} \\left[ 0-0 - iq \\int_{-\\infty}^\\infty dx f(x) e^{iqx} \\right] \\\\\n",
    "       &= - i q \\tilde f(q)\n",
    "\\end{align*}"
   ]
  },
  {
   "cell_type": "markdown",
   "id": "c58330b1-b849-4bd6-9bbd-d47fcb414ddb",
   "metadata": {},
   "source": [
    "```{important}\n",
    "\n",
    "$$\n",
    "h(x) = \\dfrac{df}{dx} \\Leftrightarrow \\tilde h(q) = -iq \\tilde f(q)\n",
    "$$ \n",
    "\n",
    "Differentiation in position-space becomes multiplication by $-iq$ in Fourier space!\n",
    "\n",
    "```"
   ]
  },
  {
   "cell_type": "markdown",
   "id": "6b026a36-d95f-4eb5-aced-cbc1a962b118",
   "metadata": {},
   "source": [
    "We can iterate this result to get the Fourier transform of the $n$th derivative: Let $k(x) = dh/dx = d^2 f/dx^2$. Then\n"
   ]
  },
  {
   "cell_type": "markdown",
   "id": "856998b0-0f9a-4650-9a7b-ddcaaf716499",
   "metadata": {},
   "source": [
    "\n",
    "$$\n",
    "\\tilde k(q) = -iq \\tilde h(q) = (-iq)^2 \\tilde f(q) = -q^2 \\tilde f(q)\n",
    "$$\n",
    "\n"
   ]
  },
  {
   "cell_type": "markdown",
   "id": "977e2c32-85f0-45e7-8745-8563fda74c9c",
   "metadata": {},
   "source": [
    "and more generally,"
   ]
  },
  {
   "cell_type": "markdown",
   "id": "743e72ed-caf8-45ff-af94-dd07ff3bf4cb",
   "metadata": {},
   "source": [
    "```{important}\n",
    "$$\n",
    "\\text{ For $p(x) = d^n f/dx^n$, } \\quad  \\tilde p(q) = (-iq)^n \\tilde f(q).\n",
    "$$\n",
    "```"
   ]
  },
  {
   "cell_type": "markdown",
   "id": "34beb7c0-d3ae-4daa-96ef-6cd7effee701",
   "metadata": {},
   "source": [
    "This property can be very useful in solving differential equations \"in Fourier space\"... as long we can compute the inverse Fourier transform! "
   ]
  },
  {
   "cell_type": "markdown",
   "id": "8da30282-5a03-4402-b565-85fea237ee94",
   "metadata": {},
   "source": [
    "### Example 1"
   ]
  },
  {
   "cell_type": "markdown",
   "id": "62e81524-b6fb-403e-96cc-1ca445eafb7a",
   "metadata": {},
   "source": [
    "*Solve the differential equation $\\dfrac{d^2 f}{dx^2} = - 9 f$.*\n",
    "\n",
    "Taking the Fourier transforms of both sides, and exploiting linearity:"
   ]
  },
  {
   "cell_type": "markdown",
   "id": "2e831519-1b90-4315-b416-1e61391de4bf",
   "metadata": {},
   "source": [
    "\n",
    "\n",
    "\\begin{align*}\n",
    "    (-iq)^2 \\tilde f(q) &= - 9 \\tilde f(q) \\\\\n",
    "    \\Rightarrow (9-q^2)\\tilde f(q) &= 0 \n",
    "\\end{align*}"
   ]
  },
  {
   "cell_type": "markdown",
   "id": "fc7294a9-ae31-4675-8414-e24dafebb98a",
   "metadata": {},
   "source": [
    "Since this equation is true for *all* $q$, $\\tilde f(q)$ must vanish everywhere except $q=\\pm 3$. So (for general complex coefficients $a$ and $b$) the general solution satisfies"
   ]
  },
  {
   "cell_type": "markdown",
   "id": "290ccaa7-1771-4918-be9a-de06783aa676",
   "metadata": {},
   "source": [
    "\\begin{align*}\n",
    "\\tilde f(q) &= a \\delta(q+3) + b \\delta(q-3) \\\\\n",
    "    \\Rightarrow f(x) &= \\int_{-\\infty}^\\infty dq \\left(a \\delta(q+3) + b\\delta(q-3) \\right) e^{-iqx} = a e^{3ix} + b e^{-3ix} \\\\\n",
    "    &= A \\cos(3x) + i B \\sin(3x)\n",
    "\\end{align*}\n",
    "where $A=a+b$, $B=a-b$. "
   ]
  },
  {
   "cell_type": "markdown",
   "id": "bde2f8ce-813c-49a6-a7b3-465de008c1de",
   "metadata": {},
   "source": [
    "### Example 2"
   ]
  },
  {
   "cell_type": "markdown",
   "id": "ae9cef45-e068-480d-b143-e411a48b9484",
   "metadata": {},
   "source": [
    "\n",
    "\\begin{align*}\n",
    "    \\frac{df}{dx} &= \\cos(3x) \\\\\n",
    "    \\Rightarrow -iq \\tilde f(q) &= \\frac{1}{2} \\left[ \\delta(q+3) + \\delta(q-3) \\right] \\\\\n",
    "    \\Rightarrow \\tilde f(q) &= - \\frac{1}{2iq} \\left[ \\delta(q+3) + \\delta(q-3) \\right] \\\\\n",
    "    \\Rightarrow f(x) &= \\int_{-\\infty}^\\infty dq \\left(-\\frac{1}{2iq} \\left[\\delta(q+3) + \\delta(q-3) \\right] \\right) e^{-iqx} \\\\\n",
    "    &= \\left(-\\frac{1}{2i} \\right) \\left[ \\int_{-\\infty}^\\infty dq \\frac{e^{-iqx}}{q} \\delta(q+3) + \\int_{-\\infty}^\\infty dq \\frac{e^{-iqx}}{q} \\delta(q-3) \\right]  \\\\\n",
    "    &= \\left(-\\frac{1}{2i} \\right) \\left[ \\frac{e^{3ix}}{-3} + \\frac{e^{-3ix}}{3} \\right] = \\frac{1}{3} \\sin(3x) \\quad \\checkmark \n",
    "\\end{align*}\n"
   ]
  },
  {
   "cell_type": "markdown",
   "id": "8f575914-7934-40d4-9d90-2cf726ace1b4",
   "metadata": {},
   "source": [
    "## Summary\n",
    "\n",
    "* Fourier transforms generalize Fourier series (along with Parseval's Theorem) to not-necessarily-periodic functions on $(-\\infty,\\infty)$\n",
    "\n",
    "* The Fourier transform of a function of time picks out the frequencies (maybe infinitely many!) of the SHOs that sum to give the function.\n",
    "\n",
    "* Differentiation for $f(x)$ become multiplication by $(iq)$ in Fourier space.\n",
    "\n",
    "* We have also introduced the very important Dirac delta function $\\delta(u)$. "
   ]
  },
  {
   "cell_type": "markdown",
   "id": "5ff3d561-b72a-4163-b44f-15a1b1e85bd5",
   "metadata": {},
   "source": [
    "---"
   ]
  },
  {
   "cell_type": "markdown",
   "id": "5f514153-e899-483e-a143-641c134ba491",
   "metadata": {},
   "source": [
    "---"
   ]
  },
  {
   "cell_type": "markdown",
   "id": "460d56b6-4252-4880-b803-e716ab1bdac0",
   "metadata": {},
   "source": [
    "---"
   ]
  }
 ],
 "metadata": {
  "kernelspec": {
   "display_name": "pippy39",
   "language": "python",
   "name": "pippy39"
  },
  "language_info": {
   "codemirror_mode": {
    "name": "ipython",
    "version": 3
   },
   "file_extension": ".py",
   "mimetype": "text/x-python",
   "name": "python",
   "nbconvert_exporter": "python",
   "pygments_lexer": "ipython3",
   "version": "3.9.5"
  }
 },
 "nbformat": 4,
 "nbformat_minor": 5
}
